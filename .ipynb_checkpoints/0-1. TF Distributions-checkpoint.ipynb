{
 "cells": [
  {
   "cell_type": "markdown",
   "metadata": {},
   "source": [
    "# TensorFlow Distributions: A Gentle Introduction\n",
    "\n",
    "mostly copied from [this tutorial](https://github.com/tensorflow/probability/blob/master/tensorflow_probability/examples/jupyter_notebooks/TensorFlow_Distributions_Tutorial.ipynb)"
   ]
  },
  {
   "cell_type": "code",
   "execution_count": 1,
   "metadata": {},
   "outputs": [],
   "source": [
    "import os\n",
    "os.environ[\"CUDA_DEVICE_ORDER\"]=\"PCI_BUS_ID\"\n",
    "os.environ[\"CUDA_VISIBLE_DEVICES\"]=\"0\""
   ]
  },
  {
   "cell_type": "code",
   "execution_count": 2,
   "metadata": {},
   "outputs": [
    {
     "name": "stdout",
     "output_type": "stream",
     "text": [
      "TensorFlow version 1.10.0, TF Probability version 0.4.0.\n"
     ]
    }
   ],
   "source": [
    "import tensorflow as tf\n",
    "tf.contrib.eager.enable_eager_execution()\n",
    "import tensorflow_probability as tfp\n",
    "tfd = tfp.distributions\n",
    "\n",
    "import matplotlib.pyplot as plt\n",
    "\n",
    "print('TensorFlow version {}, TF Probability version {}.'.format(tf.__version__, tfp.__version__))"
   ]
  },
  {
   "cell_type": "markdown",
   "metadata": {},
   "source": [
    "### Normal Distribution"
   ]
  },
  {
   "cell_type": "code",
   "execution_count": 3,
   "metadata": {},
   "outputs": [
    {
     "data": {
      "text/plain": [
       "<tf.distributions.Normal 'Normal/' batch_shape=() event_shape=() dtype=float32>"
      ]
     },
     "execution_count": 3,
     "metadata": {},
     "output_type": "execute_result"
    }
   ],
   "source": [
    "n = tfd.Normal(loc=0., scale=1.)\n",
    "n"
   ]
  },
  {
   "cell_type": "code",
   "execution_count": 4,
   "metadata": {},
   "outputs": [
    {
     "data": {
      "text/plain": [
       "<tf.Tensor: id=23, shape=(), dtype=float32, numpy=-0.103298075>"
      ]
     },
     "execution_count": 4,
     "metadata": {},
     "output_type": "execute_result"
    }
   ],
   "source": [
    "n.sample()"
   ]
  },
  {
   "cell_type": "code",
   "execution_count": 5,
   "metadata": {},
   "outputs": [
    {
     "data": {
      "text/plain": [
       "<tf.Tensor: id=44, shape=(30,), dtype=float32, numpy=\n",
       "array([ 0.87204474,  0.14108324, -0.8989486 ,  0.7196516 ,  0.6787393 ,\n",
       "       -0.1474429 ,  0.38894367,  0.562203  ,  0.23441613, -0.7625908 ,\n",
       "        0.6879466 , -1.2196918 , -0.3941325 , -1.2343512 , -1.3527358 ,\n",
       "       -0.39829424,  0.8122442 , -1.2203964 ,  1.7937267 , -0.72758806,\n",
       "        0.19080156, -0.37379244,  0.09457169, -0.6513319 ,  0.58910555,\n",
       "        1.0043154 ,  0.04408731, -1.5046779 , -0.76363707,  0.13893561],\n",
       "      dtype=float32)>"
      ]
     },
     "execution_count": 5,
     "metadata": {},
     "output_type": "execute_result"
    }
   ],
   "source": [
    "n.sample(30)"
   ]
  },
  {
   "cell_type": "code",
   "execution_count": 6,
   "metadata": {},
   "outputs": [
    {
     "data": {
      "text/plain": [
       "<tf.Tensor: id=56, shape=(2,), dtype=float32, numpy=array([-0.9189385, -1.0439385], dtype=float32)>"
      ]
     },
     "execution_count": 6,
     "metadata": {},
     "output_type": "execute_result"
    }
   ],
   "source": [
    "n.log_prob([0, .5])"
   ]
  },
  {
   "cell_type": "markdown",
   "metadata": {},
   "source": [
    "### Bernoulli Distribution"
   ]
  },
  {
   "cell_type": "code",
   "execution_count": 7,
   "metadata": {},
   "outputs": [
    {
     "data": {
      "text/plain": [
       "<tf.distributions.Bernoulli 'Bernoulli/' batch_shape=() event_shape=() dtype=int32>"
      ]
     },
     "execution_count": 7,
     "metadata": {},
     "output_type": "execute_result"
    }
   ],
   "source": [
    "b = tfd.Bernoulli(probs=.7)\n",
    "b"
   ]
  },
  {
   "cell_type": "code",
   "execution_count": 8,
   "metadata": {},
   "outputs": [
    {
     "data": {
      "text/plain": [
       "<tf.Tensor: id=85, shape=(2,), dtype=int32, numpy=array([0, 1], dtype=int32)>"
      ]
     },
     "execution_count": 8,
     "metadata": {},
     "output_type": "execute_result"
    }
   ],
   "source": [
    "b.sample(2)"
   ]
  },
  {
   "cell_type": "code",
   "execution_count": 9,
   "metadata": {},
   "outputs": [
    {
     "data": {
      "text/plain": [
       "<tf.Tensor: id=109, shape=(), dtype=float32, numpy=0.01323>"
      ]
     },
     "execution_count": 9,
     "metadata": {},
     "output_type": "execute_result"
    }
   ],
   "source": [
    "logp = b.log_prob([0, 0, 0, 1, 1])\n",
    "tf.exp(tf.reduce_sum(logp))"
   ]
  },
  {
   "cell_type": "markdown",
   "metadata": {},
   "source": [
    "### Multivariate Normal Distribution"
   ]
  },
  {
   "cell_type": "code",
   "execution_count": 10,
   "metadata": {},
   "outputs": [
    {
     "data": {
      "text/plain": [
       "<tf.distributions.MultivariateNormalDiag 'MultivariateNormalDiag/' batch_shape=() event_shape=(2,) dtype=float32>"
      ]
     },
     "execution_count": 10,
     "metadata": {},
     "output_type": "execute_result"
    }
   ],
   "source": [
    "nd = tfd.MultivariateNormalDiag(loc=[0., 10.], scale_diag=[1., 4.])\n",
    "nd"
   ]
  },
  {
   "cell_type": "code",
   "execution_count": 11,
   "metadata": {},
   "outputs": [
    {
     "data": {
      "text/plain": [
       "<tf.Tensor: id=277, shape=(2,), dtype=float32, numpy=array([-1.4462525,  8.207792 ], dtype=float32)>"
      ]
     },
     "execution_count": 11,
     "metadata": {},
     "output_type": "execute_result"
    }
   ],
   "source": [
    "nd.sample()"
   ]
  },
  {
   "cell_type": "code",
   "execution_count": 12,
   "metadata": {},
   "outputs": [
    {
     "data": {
      "text/plain": [
       "<tf.Tensor: id=385, shape=(4, 2), dtype=float32, numpy=\n",
       "array([[-0.37503472,  3.4838362 ],\n",
       "       [-0.51622206, 21.53647   ],\n",
       "       [ 0.32846075, 10.151738  ],\n",
       "       [-0.4766223 ,  9.926517  ]], dtype=float32)>"
      ]
     },
     "execution_count": 12,
     "metadata": {},
     "output_type": "execute_result"
    }
   ],
   "source": [
    "nd.sample(4)"
   ]
  },
  {
   "cell_type": "code",
   "execution_count": 13,
   "metadata": {},
   "outputs": [
    {
     "data": {
      "image/png": "[encoded data removed]",
      "text/plain": [
       "<Figure size 432x288 with 1 Axes>"
      ]
     },
     "metadata": {
      "needs_background": "light"
     },
     "output_type": "display_data"
    }
   ],
   "source": [
    "nd = tfd.MultivariateNormalFullCovariance(\n",
    "    loc=[0., 5.], covariance_matrix=[[1., .7], [.7, 1.]])\n",
    "data = nd.sample(1e4)\n",
    "plt.scatter(data[:, 0], data[:, 1], s=.1)\n",
    "plt.show()"
   ]
  },
  {
   "cell_type": "markdown",
   "metadata": {},
   "source": [
    "### Batch of Distributions"
   ]
  },
  {
   "cell_type": "code",
   "execution_count": 14,
   "metadata": {},
   "outputs": [
    {
     "data": {
      "text/plain": [
       "<tf.distributions.Bernoulli 'Bernoulli/' batch_shape=(3,) event_shape=() dtype=int32>"
      ]
     },
     "execution_count": 14,
     "metadata": {},
     "output_type": "execute_result"
    }
   ],
   "source": [
    "three_bernoullis = tfd.Bernoulli(probs=[.4, .7, .1])\n",
    "three_bernoullis"
   ]
  },
  {
   "cell_type": "code",
   "execution_count": 15,
   "metadata": {},
   "outputs": [
    {
     "data": {
      "text/plain": [
       "<tf.Tensor: id=615, shape=(4, 3), dtype=int32, numpy=\n",
       "array([[0, 0, 0],\n",
       "       [0, 1, 0],\n",
       "       [0, 1, 0],\n",
       "       [0, 1, 0]], dtype=int32)>"
      ]
     },
     "execution_count": 15,
     "metadata": {},
     "output_type": "execute_result"
    }
   ],
   "source": [
    "three_bernoullis.sample(4)"
   ]
  },
  {
   "cell_type": "markdown",
   "metadata": {},
   "source": [
    "### tfd.Independent\n",
    "\n",
    "We take the joint of these three distributions. The result looks similar, but a sample is a single $3$-dimensional event rather than a batch of three $1$-dimensional events. For example, this changes the output of log_prob()."
   ]
  },
  {
   "cell_type": "code",
   "execution_count": 26,
   "metadata": {},
   "outputs": [
    {
     "data": {
      "text/plain": [
       "<tf.distributions.Independent 'IndependentBernoulli/' batch_shape=() event_shape=(3,) dtype=int32>"
      ]
     },
     "execution_count": 26,
     "metadata": {},
     "output_type": "execute_result"
    }
   ],
   "source": [
    "b3_joint = tfd.Independent(three_bernoullis, reinterpreted_batch_ndims=1)\n",
    "b3_joint"
   ]
  },
  {
   "cell_type": "code",
   "execution_count": 27,
   "metadata": {},
   "outputs": [
    {
     "data": {
      "text/plain": [
       "(<tf.Tensor: id=1300, shape=(), dtype=float32, numpy=-1.3783262>,\n",
       " <tf.Tensor: id=1313, shape=(3,), dtype=float32, numpy=array([-0.9162907 , -0.35667494, -0.10536052], dtype=float32)>)"
      ]
     },
     "execution_count": 27,
     "metadata": {},
     "output_type": "execute_result"
    }
   ],
   "source": [
    "event = [1, 1, 0]\n",
    "b3_joint.log_prob(event), three_bernoullis.log_prob(event)"
   ]
  },
  {
   "cell_type": "markdown",
   "metadata": {},
   "source": [
    "### Batch of Multivariate Distributions"
   ]
  },
  {
   "cell_type": "code",
   "execution_count": 18,
   "metadata": {},
   "outputs": [
    {
     "data": {
      "text/plain": [
       "<tf.distributions.MultivariateNormalFullCovariance 'MultivariateNormalFullCovariance/' batch_shape=(3,) event_shape=(2,) dtype=float32>"
      ]
     },
     "execution_count": 18,
     "metadata": {},
     "output_type": "execute_result"
    }
   ],
   "source": [
    "nd_batch = tfd.MultivariateNormalFullCovariance(\n",
    "    loc = [[0., 0.], [4., 4.], [-2., 2.]],\n",
    "    covariance_matrix = [[[1., .1], [.1, 1.]], \n",
    "                         [[1., .3], [.3, 1.]],\n",
    "                         [[1., .5], [.5, 1.]]])\n",
    "nd_batch"
   ]
  },
  {
   "cell_type": "code",
   "execution_count": 19,
   "metadata": {},
   "outputs": [
    {
     "data": {
      "image/png": "[encoded data removed]",
      "text/plain": [
       "<Figure size 432x288 with 1 Axes>"
      ]
     },
     "metadata": {
      "needs_background": "light"
     },
     "output_type": "display_data"
    }
   ],
   "source": [
    "data = nd_batch.sample(1e3)\n",
    "for idx in range(3):\n",
    "    plt.scatter(data[:, idx, 0], data[:, idx, 1], s=.1)\n",
    "plt.show()"
   ]
  },
  {
   "cell_type": "markdown",
   "metadata": {},
   "source": [
    "### Batch shape VS Event shape"
   ]
  },
  {
   "cell_type": "code",
   "execution_count": 20,
   "metadata": {},
   "outputs": [
    {
     "name": "stdout",
     "output_type": "stream",
     "text": [
      "Normal () ()\n",
      "Bernoulli () ()\n",
      "MultivariateNormalFullCovariance () (2,)\n",
      "Bernoulli (3,) ()\n",
      "IndependentBernoulli () (3,)\n",
      "MultivariateNormalFullCovariance (3,) (2,)\n"
     ]
    }
   ],
   "source": [
    "dists = [n, b, nd, three_bernoullis, b3_joint, nd_batch]\n",
    "for x in dists:\n",
    "    print(x.name[:-1], x.batch_shape, x.event_shape)"
   ]
  },
  {
   "cell_type": "markdown",
   "metadata": {},
   "source": [
    "consider a normal distribution:"
   ]
  },
  {
   "cell_type": "code",
   "execution_count": 21,
   "metadata": {},
   "outputs": [
    {
     "data": {
      "text/plain": [
       "<tf.distributions.Normal 'Normal/' batch_shape=() event_shape=() dtype=float32>"
      ]
     },
     "execution_count": 21,
     "metadata": {},
     "output_type": "execute_result"
    }
   ],
   "source": [
    "n = tfd.Normal(loc=0., scale=1.)\n",
    "n"
   ]
  },
  {
   "cell_type": "code",
   "execution_count": 22,
   "metadata": {},
   "outputs": [
    {
     "name": "stdout",
     "output_type": "stream",
     "text": [
      "tf.Tensor(-0.9189385, shape=(), dtype=float32)\n",
      "tf.Tensor([-0.9189385], shape=(1,), dtype=float32)\n",
      "tf.Tensor([[-0.9189385]], shape=(1, 1), dtype=float32)\n"
     ]
    }
   ],
   "source": [
    "print(n.log_prob(0.))\n",
    "print(n.log_prob([0.]))\n",
    "print(n.log_prob([[0.]]))"
   ]
  },
  {
   "cell_type": "code",
   "execution_count": 23,
   "metadata": {},
   "outputs": [
    {
     "data": {
      "text/plain": [
       "<tf.Tensor: id=968, shape=(2, 2), dtype=float32, numpy=\n",
       "array([[-0.9189385, -1.4189385],\n",
       "       [-1.4189385, -2.9189386]], dtype=float32)>"
      ]
     },
     "execution_count": 23,
     "metadata": {},
     "output_type": "execute_result"
    }
   ],
   "source": [
    "n.log_prob([[0., 1.], [-1., 2.]])"
   ]
  },
  {
   "cell_type": "markdown",
   "metadata": {},
   "source": [
    "Due to broadcasting, the two inputs below are interpreted as the same thing:"
   ]
  },
  {
   "cell_type": "code",
   "execution_count": 32,
   "metadata": {},
   "outputs": [
    {
     "name": "stdout",
     "output_type": "stream",
     "text": [
      "tf.Tensor(-2.337877, shape=(), dtype=float32)\n",
      "tf.Tensor(-2.337877, shape=(), dtype=float32)\n"
     ]
    }
   ],
   "source": [
    "nd = tfd.MultivariateNormalDiag(loc=[0., 1.], scale_diag=[1., 1.])\n",
    "print(nd.log_prob([0.]))\n",
    "print(nd.log_prob([0., 0.]))"
   ]
  },
  {
   "cell_type": "markdown",
   "metadata": {},
   "source": [
    "Broadcasting also works inside a list of things:"
   ]
  },
  {
   "cell_type": "code",
   "execution_count": 34,
   "metadata": {},
   "outputs": [
    {
     "name": "stdout",
     "output_type": "stream",
     "text": [
      "tf.Tensor(-2.337877, shape=(), dtype=float32)\n",
      "tf.Tensor([-2.337877  -2.337877  -4.3378773], shape=(3,), dtype=float32)\n",
      "tf.Tensor([-2.337877  -2.337877  -4.3378773], shape=(3,), dtype=float32)\n"
     ]
    }
   ],
   "source": [
    "nd = tfd.MultivariateNormalDiag(loc=[0., 1.], scale_diag=[1., 1.])\n",
    "print(nd.log_prob([0., 0.]))\n",
    "print(nd.log_prob([[0.], [1.], [2.]]))\n",
    "print(nd.log_prob([[0., 0.], [1., 1.], [2., 2.]]))"
   ]
  },
  {
   "cell_type": "code",
   "execution_count": null,
   "metadata": {},
   "outputs": [],
   "source": []
  }
 ],
 "metadata": {
  "kernelspec": {
   "display_name": "Python 3",
   "language": "python",
   "name": "python3"
  },
  "language_info": {
   "codemirror_mode": {
    "name": "ipython",
    "version": 3
   },
   "file_extension": ".py",
   "mimetype": "text/x-python",
   "name": "python",
   "nbconvert_exporter": "python",
   "pygments_lexer": "ipython3",
   "version": "3.5.2"
  }
 },
 "nbformat": 4,
 "nbformat_minor": 2
}
