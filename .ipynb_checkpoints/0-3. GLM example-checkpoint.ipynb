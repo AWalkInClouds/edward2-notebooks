{
 "cells": [
  {
   "cell_type": "markdown",
   "metadata": {},
   "source": [
    "# Fitting a simple glm\n",
    "\n",
    "copied from https://www.tensorflow.org/probability/"
   ]
  },
  {
   "cell_type": "code",
   "execution_count": 1,
   "metadata": {},
   "outputs": [],
   "source": [
    "import os\n",
    "os.environ[\"CUDA_DEVICE_ORDER\"]=\"PCI_BUS_ID\"\n",
    "os.environ[\"CUDA_VISIBLE_DEVICES\"]=\"0\""
   ]
  },
  {
   "cell_type": "code",
   "execution_count": 2,
   "metadata": {},
   "outputs": [],
   "source": [
    "import tensorflow as tf\n",
    "tf.contrib.eager.enable_eager_execution()\n",
    "import tensorflow_probability as tfp"
   ]
  },
  {
   "cell_type": "code",
   "execution_count": 3,
   "metadata": {},
   "outputs": [
    {
     "data": {
      "text/plain": [
       "(<tf.Tensor: id=24, shape=(1000000,), dtype=float32, numpy=\n",
       " array([-2.0588274 , -0.05509479,  1.3838661 , ...,  0.09976611,\n",
       "        -0.90812874, -1.1866615 ], dtype=float32)>,\n",
       " <tf.Tensor: id=49, shape=(1000000,), dtype=int32, numpy=array([0, 1, 1, ..., 1, 0, 0], dtype=int32)>)"
      ]
     },
     "execution_count": 3,
     "metadata": {},
     "output_type": "execute_result"
    }
   ],
   "source": [
    "# Generate synthetic dataset\n",
    "const = 1.618\n",
    "num_samples = 1e6\n",
    "features = tfp.distributions.Normal(loc=0., scale=1.).sample(num_samples)\n",
    "labels = tfp.distributions.Bernoulli(logits=const * features).sample()\n",
    "\n",
    "features, labels"
   ]
  },
  {
   "cell_type": "code",
   "execution_count": 4,
   "metadata": {},
   "outputs": [
    {
     "name": "stdout",
     "output_type": "stream",
     "text": [
      "coeffs ([1.6141653]) should be similar to const (1.618).\n"
     ]
    }
   ],
   "source": [
    "# Specify model.\n",
    "model = tfp.glm.Bernoulli()\n",
    "\n",
    "# Fit model given data.\n",
    "coeffs, linear_response, is_converged, num_iter = tfp.glm.fit(\n",
    "    model_matrix=features[:, tf.newaxis],\n",
    "    response=tf.to_float(labels),\n",
    "    model=model)\n",
    "print(\"coeffs ({}) should be similar to const ({}).\".format(coeffs.numpy(), const))"
   ]
  },
  {
   "cell_type": "code",
   "execution_count": null,
   "metadata": {},
   "outputs": [],
   "source": []
  }
 ],
 "metadata": {
  "kernelspec": {
   "display_name": "Python 3",
   "language": "python",
   "name": "python3"
  },
  "language_info": {
   "codemirror_mode": {
    "name": "ipython",
    "version": 3
   },
   "file_extension": ".py",
   "mimetype": "text/x-python",
   "name": "python",
   "nbconvert_exporter": "python",
   "pygments_lexer": "ipython3",
   "version": "3.5.2"
  }
 },
 "nbformat": 4,
 "nbformat_minor": 2
}
