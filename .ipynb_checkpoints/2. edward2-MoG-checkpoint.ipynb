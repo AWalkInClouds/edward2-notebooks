{
 "cells": [
  {
   "cell_type": "markdown",
   "metadata": {},
   "source": [
    "# Bayesian Mixture of Gaussians in edward2\n",
    "\n",
    "A [similar tutorial](https://github.com/tensorflow/probability/blob/master/tensorflow_probability/examples/jupyter_notebooks/Bayesian_Gaussian_Mixture_Model.ipynb) exists, but is written in tfp."
   ]
  },
  {
   "cell_type": "code",
   "execution_count": 1,
   "metadata": {},
   "outputs": [],
   "source": [
    "import os\n",
    "os.environ[\"CUDA_DEVICE_ORDER\"]=\"PCI_BUS_ID\"\n",
    "os.environ[\"CUDA_VISIBLE_DEVICES\"]=\"0\""
   ]
  },
  {
   "cell_type": "code",
   "execution_count": 2,
   "metadata": {},
   "outputs": [
    {
     "name": "stdout",
     "output_type": "stream",
     "text": [
      "TensorFlow version 1.10.0, TF Probability version 0.4.0.\n"
     ]
    }
   ],
   "source": [
    "from functools import partial\n",
    "import numpy as np\n",
    "import matplotlib.pyplot as plt\n",
    "import tensorflow as tf\n",
    "Variable = tf.Variable\n",
    "import tensorflow_probability as tfp\n",
    "tfd = tfp.distributions\n",
    "ed = tfp.edward2\n",
    "\n",
    "print('TensorFlow version {}, TF Probability version {}.'.format(tf.__version__, tfp.__version__))"
   ]
  },
  {
   "cell_type": "code",
   "execution_count": 3,
   "metadata": {},
   "outputs": [],
   "source": [
    "def mog_model(d, k, n):\n",
    "    pi = ed.Dirichlet(concentration=tf.ones(k)*.1, name='pi')\n",
    "    mu = ed.MultivariateNormalDiag(loc=tf.zeros([k, d]), scale_identity_multiplier=tf.ones([k]), name='mu')\n",
    "    sigmasq = ed.InverseGamma(concentration=tf.ones([k]), rate=tf.ones([k]), name='sigmasq')\n",
    "    x = ed.MixtureSameFamily(\n",
    "        mixture_distribution=tfd.Categorical(probs=pi,name='mixture'),\n",
    "        components_distribution=tfd.MultivariateNormalDiag(\n",
    "            loc=mu, scale_identity_multiplier=sigmasq, name='mixture_components'),\n",
    "        sample_shape=n, name='x')\n",
    "    return x, (pi, mu, sigmasq)\n",
    "\n",
    "def variational_model(d, k):\n",
    "    qpi = tf.nn.softmax(tf.ones([k]))\n",
    "    qmu = tf.random_normal([k, d])\n",
    "    qsigmasq = tf.nn.softplus(tf.ones([k]))\n",
    "    return qpi, qmu, qsigmasq\n",
    "\n",
    "def replace_latents(qpi, qmu, qsigmasq):\n",
    "    def interceptor(rv_constructor, *rv_args, **rv_kwargs):\n",
    "        name = rv_kwargs.pop('name')\n",
    "        if name == 'pi':\n",
    "            rv_kwargs['value'] = qpi\n",
    "        elif name == 'mu':\n",
    "            rv_kwargs['value'] = qmu\n",
    "        elif name == 'sigmasq':\n",
    "            rv_kwargs['value'] = qsigmasq\n",
    "        return rv_constructor(*rv_args, **rv_kwargs)\n",
    "    return interceptor"
   ]
  },
  {
   "cell_type": "markdown",
   "metadata": {},
   "source": [
    "We use the previous model to generate data.\n",
    "This data consists of two clusters, each centered at (1, 1) and (-1, -1)."
   ]
  },
  {
   "cell_type": "code",
   "execution_count": 4,
   "metadata": {},
   "outputs": [
    {
     "data": {
      "text/plain": [
       "<matplotlib.collections.PathCollection at 0x7f315078e518>"
      ]
     },
     "execution_count": 4,
     "metadata": {},
     "output_type": "execute_result"
    },
    {
     "data": {
      "image/png": "[encoded data removed]",
      "text/plain": [
       "<Figure size 432x288 with 1 Axes>"
      ]
     },
     "metadata": {
      "needs_background": "light"
     },
     "output_type": "display_data"
    }
   ],
   "source": [
    "# Generate data by fixing (\"intercepting\") latent variables.\n",
    "d, k, n = 2, 2, 500\n",
    "pi = np.array([.4, .6])\n",
    "mus = [[1, 1], [-1, -1]]\n",
    "stds = [0.1, 0.1]\n",
    "\n",
    "with ed.interception(replace_latents(qpi=pi, qmu=mus, qsigmasq=stds)):\n",
    "    generate = mog_model(d=d, k=k, n=n)\n",
    "with tf.Session() as sess:\n",
    "    data, _ = sess.run(generate)\n",
    "plt.scatter(data[:, 0], data[:, 1])"
   ]
  },
  {
   "cell_type": "markdown",
   "metadata": {},
   "source": [
    "We now use Hamiltonian Monte Carlo to infer the latent variables qpi, qmu, qsigmasq of our generated data:"
   ]
  },
  {
   "cell_type": "code",
   "execution_count": 5,
   "metadata": {
    "scrolled": true
   },
   "outputs": [],
   "source": [
    "log_joint = ed.make_log_joint_fn(mog_model)\n",
    "qpi, qmu, qsigmasq = variational_model(d=d, k=k)\n",
    "def target(qpi, qmu, qsigmasq):\n",
    "    return log_joint(d=d, k=k, n=n, pi=qpi, sigmasq=qsigmasq, mu=qmu, x=data)\n",
    "\n",
    "hmc_kernel = tfp.mcmc.HamiltonianMonteCarlo(\n",
    "    target_log_prob_fn=target, step_size=1e-3, num_leapfrog_steps=5)\n",
    "states, kernels_results = tfp.mcmc.sample_chain(\n",
    "    num_results=2000, current_state=[qpi, qmu, qsigmasq], kernel=hmc_kernel, num_burnin_steps=1000)\n",
    "\n",
    "with tf.Session() as sess:\n",
    "    (mcmc_pi, mcmc_mu, mcmc_sigmasq) ,_results = sess.run([states, kernels_results])"
   ]
  },
  {
   "cell_type": "code",
   "execution_count": 6,
   "metadata": {},
   "outputs": [
    {
     "data": {
      "text/plain": [
       "<matplotlib.collections.PathCollection at 0x7f308c6ca9e8>"
      ]
     },
     "execution_count": 6,
     "metadata": {},
     "output_type": "execute_result"
    },
    {
     "data": {
      "image/png": "[encoded data removed]",
      "text/plain": [
       "<Figure size 432x288 with 1 Axes>"
      ]
     },
     "metadata": {
      "needs_background": "light"
     },
     "output_type": "display_data"
    }
   ],
   "source": [
    "_pi, _mu, _sigmasq = mcmc_pi[-1], mcmc_mu[-1], mcmc_sigmasq[-1]\n",
    "with ed.interception(replace_latents(qpi=_pi, qmu=_mu, qsigmasq=_sigmasq)):\n",
    "    generate = mog_model(d=d, k=k, n=1e4)\n",
    "    \n",
    "with tf.Session() as sess:\n",
    "    generated, _ = sess.run(generate)\n",
    "plt.scatter(data[:, 0], data[:, 1])\n",
    "plt.scatter(generated[:, 0], generated[:, 1], c='r', s=.1, alpha=.3)"
   ]
  },
  {
   "cell_type": "code",
   "execution_count": null,
   "metadata": {},
   "outputs": [],
   "source": []
  }
 ],
 "metadata": {
  "kernelspec": {
   "display_name": "Python 3",
   "language": "python",
   "name": "python3"
  },
  "language_info": {
   "codemirror_mode": {
    "name": "ipython",
    "version": 3
   },
   "file_extension": ".py",
   "mimetype": "text/x-python",
   "name": "python",
   "nbconvert_exporter": "python",
   "pygments_lexer": "ipython3",
   "version": "3.5.2"
  }
 },
 "nbformat": 4,
 "nbformat_minor": 2
}
