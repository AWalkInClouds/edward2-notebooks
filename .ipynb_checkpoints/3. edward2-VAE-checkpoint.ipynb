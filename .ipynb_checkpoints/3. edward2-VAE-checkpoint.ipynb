{
 "cells": [
  {
   "cell_type": "markdown",
   "metadata": {},
   "source": [
    "# Variational Autoencoders in edward2\n",
    "\n",
    "There is a [script of VAE](https://github.com/tensorflow/probability/blob/master/tensorflow_probability/examples/vae.py) written with tfp, and a [script of grammar VAE](https://github.com/tensorflow/probability/blob/master/tensorflow_probability/examples/grammar_vae.py) written with edward2.\n"
   ]
  },
  {
   "cell_type": "code",
   "execution_count": 1,
   "metadata": {},
   "outputs": [],
   "source": [
    "import os\n",
    "os.environ[\"CUDA_DEVICE_ORDER\"]=\"PCI_BUS_ID\"\n",
    "os.environ[\"CUDA_VISIBLE_DEVICES\"]=\"0\""
   ]
  },
  {
   "cell_type": "code",
   "execution_count": 2,
   "metadata": {},
   "outputs": [
    {
     "name": "stdout",
     "output_type": "stream",
     "text": [
      "TensorFlow version 1.10.0, TF Probability version 0.4.0.\n"
     ]
    }
   ],
   "source": [
    "import numpy as np\n",
    "import matplotlib.pyplot as plt\n",
    "import tensorflow as tf\n",
    "Variable = tf.Variable\n",
    "import tensorflow_probability as tfp\n",
    "tfd = tfp.distributions\n",
    "ed = tfp.edward2\n",
    "import warnings\n",
    "warnings.filterwarnings('ignore')\n",
    "\n",
    "print('TensorFlow version {}, TF Probability version {}.'.format(tf.__version__, tfp.__version__))"
   ]
  },
  {
   "cell_type": "markdown",
   "metadata": {},
   "source": [
    "This implementation exploits the Helmholtz energy interpretation of the ELBO.\n",
    "\n",
    "The ELBO can be rearranged as the sum of the negative energy and entropy of a particle determined by $z$,\n",
    "where energy is defined as the joint probability $p(x, z)$, which edward2 can conveniently compute with ed.make_log_joint_fn()."
   ]
  },
  {
   "cell_type": "code",
   "execution_count": 3,
   "metadata": {},
   "outputs": [],
   "source": [
    "xdim, d, zdim = 784, 400, 50\n",
    "gen_net = tf.keras.Sequential([tf.keras.layers.Dense(d, activation=tf.nn.relu),\n",
    "                               tf.keras.layers.Dense(xdim, activation=None)])\n",
    "inference_net = tf.keras.Sequential([tf.keras.layers.Dense(d, activation=tf.nn.relu),\n",
    "                                     tf.keras.layers.Dense(2*zdim, activation=None)])\n",
    "\n",
    "def generative_model(batch_size=None):\n",
    "    z = ed.MultivariateNormalDiag(loc=tf.zeros([zdim]), scale_identity_multiplier=1.,\n",
    "                                  sample_shape=batch_size, name='z')\n",
    "    x = ed.Bernoulli(gen_net(z), name='x')\n",
    "    return x\n",
    "\n",
    "def variational_model(x):\n",
    "    outs = inference_net(x)\n",
    "    _loc, _scale = outs[:, :zdim], tf.nn.softplus(outs[:, zdim:])\n",
    "    z = ed.MultivariateNormalDiag(loc=_loc, scale_diag=_scale, name='z_posterior')\n",
    "    return z\n",
    "\n",
    "def get_loss(inputs):\n",
    "    z = variational_model(inputs)\n",
    "    energy = log_joint(z=z, x=inputs)\n",
    "    entropy = tf.reduce_sum(z.distribution.entropy())\n",
    "    return (-energy - entropy)\n",
    "\n",
    "def replace_z(z):\n",
    "    def interceptor(rv_constructor, *rv_args, **rv_kwargs):\n",
    "        name = rv_kwargs.pop('name')\n",
    "        if name == 'z':\n",
    "            rv_kwargs['value'] = z\n",
    "        return rv_constructor(*rv_args, **rv_kwargs)\n",
    "    return interceptor\n",
    "    \n",
    "log_joint = ed.make_log_joint_fn(generative_model)"
   ]
  },
  {
   "cell_type": "code",
   "execution_count": 4,
   "metadata": {},
   "outputs": [
    {
     "name": "stdout",
     "output_type": "stream",
     "text": [
      "124.778336 , end of epoch 0\n",
      "101.303696 , end of epoch 1\n",
      "96.09383 , end of epoch 2\n",
      "92.287735 , end of epoch 3\n",
      "94.70883 , end of epoch 4\n",
      "86.66269 , end of epoch 5\n",
      "84.784744 , end of epoch 6\n",
      "87.52312 , end of epoch 7\n",
      "89.36066 , end of epoch 8\n",
      "81.40307 , end of epoch 9\n"
     ]
    }
   ],
   "source": [
    "mnist = tf.keras.datasets.mnist\n",
    "(x_train, _), _ = mnist.load_data()\n",
    "x_train = np.rint((x_train / 255.).reshape(-1, xdim)).astype(np.float32)\n",
    "assert x_train.max() <= 1 and x_train.min() >= 0 #assert correctly\n",
    "\n",
    "bs = 64\n",
    "dataset = tf.data.Dataset.from_tensor_slices(x_train)\n",
    "dataset = dataset.shuffle((len(x_train)))\n",
    "dataset = dataset.batch(bs, drop_remainder=True)\n",
    "dataset = dataset.prefetch(16)\n",
    "data_iterator = dataset.make_initializable_iterator()\n",
    "batch_x = data_iterator.get_next()\n",
    "\n",
    "loss = get_loss(batch_x) / bs  # divide by bs since loss is summed.\n",
    "opt = tf.contrib.opt.AdamWOptimizer(0, learning_rate=1e-3)\n",
    "train = opt.minimize(loss)\n",
    "init = tf.global_variables_initializer()\n",
    "\n",
    "sess = tf.Session()\n",
    "sess.run(init)\n",
    "for i in range(10): # 10 epochs; takes <30 seconds on my GPU.\n",
    "    sess.run(data_iterator.initializer)\n",
    "    try:\n",
    "        while True:\n",
    "            _, _loss = sess.run([train, loss])\n",
    "    except tf.errors.OutOfRangeError:\n",
    "        print(_loss, ', end of epoch {}'.format(i))"
   ]
  },
  {
   "cell_type": "code",
   "execution_count": 5,
   "metadata": {},
   "outputs": [
    {
     "data": {
      "image/png": "[encoded data removed]",
      "text/plain": [
       "<Figure size 1152x288 with 64 Axes>"
      ]
     },
     "metadata": {
      "needs_background": "light"
     },
     "output_type": "display_data"
    }
   ],
   "source": [
    "# Generate imgs.\n",
    "generated = generative_model(batch_size=64)\n",
    "img = sess.run(generated).reshape(-1, 28, 28)\n",
    "plt.figure(figsize=(16, 4))\n",
    "for i in range(64):\n",
    "    plt.subplot(4, 16, i+1)\n",
    "    plt.imshow(img[i], cmap='Greys')\n",
    "    plt.axis('off')\n",
    "plt.show()"
   ]
  },
  {
   "cell_type": "code",
   "execution_count": 6,
   "metadata": {},
   "outputs": [
    {
     "data": {
      "image/png": "[encoded data removed]",
      "text/plain": [
       "<Figure size 1152x288 with 64 Axes>"
      ]
     },
     "metadata": {
      "needs_background": "light"
     },
     "output_type": "display_data"
    }
   ],
   "source": [
    "# Reconstruct imgs. Left is original, right is reconstructed.\n",
    "batch = batch_x\n",
    "var_z = variational_model(batch)\n",
    "with ed.interception(replace_z(z=var_z)):\n",
    "    recon = generative_model()\n",
    "sess.run(data_iterator.initializer)\n",
    "_batch, _recon = sess.run([batch, recon])\n",
    "_batch, _recon = _batch.reshape(-1, 28, 28), _recon.reshape(-1, 28, 28)\n",
    "plt.figure(figsize=(16, 4))\n",
    "for i in range(32):\n",
    "    plt.subplot(4, 16, 2*i+1)\n",
    "    plt.imshow(_batch[i], cmap='Greys')\n",
    "    plt.axis('off')\n",
    "    plt.subplot(4, 16, 2*i+2)\n",
    "    plt.imshow(_recon[i], cmap='Greys')\n",
    "    plt.axis('off')\n",
    "plt.show()"
   ]
  },
  {
   "cell_type": "code",
   "execution_count": null,
   "metadata": {},
   "outputs": [],
   "source": []
  }
 ],
 "metadata": {
  "kernelspec": {
   "display_name": "Python 3",
   "language": "python",
   "name": "python3"
  },
  "language_info": {
   "codemirror_mode": {
    "name": "ipython",
    "version": 3
   },
   "file_extension": ".py",
   "mimetype": "text/x-python",
   "name": "python",
   "nbconvert_exporter": "python",
   "pygments_lexer": "ipython3",
   "version": "3.5.2"
  }
 },
 "nbformat": 4,
 "nbformat_minor": 2
}
