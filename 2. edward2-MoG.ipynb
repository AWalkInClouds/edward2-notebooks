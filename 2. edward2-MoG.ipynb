{
 "cells": [
  {
   "cell_type": "markdown",
   "metadata": {},
   "source": [
    "# Bayesian Mixture of Gaussians in edward2\n",
    "\n",
    "A similar tutorial is written with tfp:\n",
    "https://github.com/tensorflow/probability/blob/master/tensorflow_probability/examples/jupyter_notebooks/Bayesian_Gaussian_Mixture_Model.ipynb"
   ]
  },
  {
   "cell_type": "code",
   "execution_count": 9,
   "metadata": {},
   "outputs": [],
   "source": [
    "import os\n",
    "os.environ[\"CUDA_DEVICE_ORDER\"]=\"PCI_BUS_ID\"\n",
    "os.environ[\"CUDA_VISIBLE_DEVICES\"]=\"7\""
   ]
  },
  {
   "cell_type": "code",
   "execution_count": 10,
   "metadata": {},
   "outputs": [
    {
     "name": "stdout",
     "output_type": "stream",
     "text": [
      "TensorFlow version 1.10.0, TF Probability version 0.4.0.\n"
     ]
    }
   ],
   "source": [
    "from functools import partial\n",
    "import matplotlib.pyplot as plt\n",
    "import tensorflow as tf\n",
    "Variable = tf.Variable\n",
    "import tensorflow_probability as tfp\n",
    "tfd = tfp.distributions\n",
    "ed = tfp.edward2\n",
    "\n",
    "print('TensorFlow version {}, TF Probability version {}.'.format(tf.__version__, tfp.__version__))"
   ]
  },
  {
   "cell_type": "code",
   "execution_count": 26,
   "metadata": {},
   "outputs": [
    {
     "name": "stdout",
     "output_type": "stream",
     "text": [
      "(array([0.9686755, 0.0313245], dtype=float32), array([[-0.71308744,  0.17273177,  0.71759415],\n",
      "       [-1.7080716 ,  0.3241706 ,  1.2325232 ]], dtype=float32))\n"
     ]
    }
   ],
   "source": [
    "def mog_model(alpha, d=2, k=3):\n",
    "    pi = ed.Dirichlet(concentration=[alpha, alpha])\n",
    "    mu = ed.Normal(loc=tf.zeros([d, k]), scale=tf.ones([d, k]))\n",
    "    return pi, mu\n",
    "model = mog_model(0.5)\n",
    "with tf.Session() as sess:\n",
    "    print(sess.run(model))"
   ]
  },
  {
   "cell_type": "code",
   "execution_count": null,
   "metadata": {},
   "outputs": [],
   "source": []
  }
 ],
 "metadata": {
  "kernelspec": {
   "display_name": "Python 3",
   "language": "python",
   "name": "python3"
  },
  "language_info": {
   "codemirror_mode": {
    "name": "ipython",
    "version": 3
   },
   "file_extension": ".py",
   "mimetype": "text/x-python",
   "name": "python",
   "nbconvert_exporter": "python",
   "pygments_lexer": "ipython3",
   "version": "3.5.2"
  }
 },
 "nbformat": 4,
 "nbformat_minor": 2
}
