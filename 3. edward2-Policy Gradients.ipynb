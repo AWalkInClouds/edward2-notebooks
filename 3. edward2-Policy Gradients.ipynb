{
 "cells": [
  {
   "cell_type": "markdown",
   "metadata": {},
   "source": [
    "# Policy Gradients for flow-based policies in edward2\n",
    "\n",
    "Just for fun, we are going to define an agent with a policy defined by a normalizing flow, and train it using (vanila) policy gradients."
   ]
  },
  {
   "cell_type": "code",
   "execution_count": 2,
   "metadata": {},
   "outputs": [],
   "source": [
    "import os\n",
    "os.environ[\"CUDA_DEVICE_ORDER\"]=\"PCI_BUS_ID\"\n",
    "os.environ[\"CUDA_VISIBLE_DEVICES\"]=\"7\""
   ]
  },
  {
   "cell_type": "code",
   "execution_count": 3,
   "metadata": {},
   "outputs": [
    {
     "name": "stdout",
     "output_type": "stream",
     "text": [
      "TensorFlow version 1.10.0, TF Probability version 0.4.0.\n"
     ]
    }
   ],
   "source": [
    "from functools import partial\n",
    "import numpy as np\n",
    "import matplotlib.pyplot as plt\n",
    "import tensorflow as tf\n",
    "Variable = tf.Variable\n",
    "import tensorflow_probability as tfp\n",
    "tfd = tfp.distributions\n",
    "ed = tfp.edward2\n",
    "\n",
    "print('TensorFlow version {}, TF Probability version {}.'.format(tf.__version__, tfp.__version__))"
   ]
  },
  {
   "cell_type": "code",
   "execution_count": 20,
   "metadata": {},
   "outputs": [
    {
     "name": "stdout",
     "output_type": "stream",
     "text": [
      "[1.3304794] (array([-0.87951165,  0.47587736, -0.38199501]), -7.188274673975539, False, {})\n"
     ]
    },
    {
     "name": "stderr",
     "output_type": "stream",
     "text": [
      "/home/deploy/.local/share/virtualenvs/edward2-notebooks-Fuhq9eE6/lib/python3.5/site-packages/gym/envs/registration.py:14: DeprecationWarning: Parameters to load are deprecated.  Call .resolve and .require separately.\n",
      "  result = entry_point.load(False)\n"
     ]
    }
   ],
   "source": [
    "import gym\n",
    "env = gym.make('Pendulum-v0') # We use the simplest environment in gym that has a continuous action space.\n",
    "env.reset()\n",
    "random_action = env.action_space.sample()\n",
    "print(random_action, env.step(random_action))"
   ]
  },
  {
   "cell_type": "code",
   "execution_count": 46,
   "metadata": {},
   "outputs": [
    {
     "name": "stderr",
     "output_type": "stream",
     "text": [
      "/home/deploy/.local/share/virtualenvs/edward2-notebooks-Fuhq9eE6/lib/python3.5/site-packages/tensorflow/python/util/tf_inspect.py:75: DeprecationWarning: inspect.getargspec() is deprecated, use inspect.signature() instead\n",
      "  return _inspect.getargspec(target)\n",
      "/home/deploy/.local/share/virtualenvs/edward2-notebooks-Fuhq9eE6/lib/python3.5/site-packages/tensorflow/python/util/tf_inspect.py:75: DeprecationWarning: inspect.getargspec() is deprecated, use inspect.signature() instead\n",
      "  return _inspect.getargspec(target)\n",
      "/home/deploy/.local/share/virtualenvs/edward2-notebooks-Fuhq9eE6/lib/python3.5/site-packages/tensorflow/python/util/tf_inspect.py:75: DeprecationWarning: inspect.getargspec() is deprecated, use inspect.signature() instead\n",
      "  return _inspect.getargspec(target)\n",
      "/home/deploy/.local/share/virtualenvs/edward2-notebooks-Fuhq9eE6/lib/python3.5/site-packages/tensorflow/python/util/tf_inspect.py:75: DeprecationWarning: inspect.getargspec() is deprecated, use inspect.signature() instead\n",
      "  return _inspect.getargspec(target)\n",
      "/home/deploy/.local/share/virtualenvs/edward2-notebooks-Fuhq9eE6/lib/python3.5/site-packages/tensorflow/python/util/tf_inspect.py:75: DeprecationWarning: inspect.getargspec() is deprecated, use inspect.signature() instead\n",
      "  return _inspect.getargspec(target)\n",
      "/home/deploy/.local/share/virtualenvs/edward2-notebooks-Fuhq9eE6/lib/python3.5/site-packages/tensorflow/python/util/tf_inspect.py:75: DeprecationWarning: inspect.getargspec() is deprecated, use inspect.signature() instead\n",
      "  return _inspect.getargspec(target)\n",
      "/home/deploy/.local/share/virtualenvs/edward2-notebooks-Fuhq9eE6/lib/python3.5/site-packages/tensorflow/python/util/tf_inspect.py:75: DeprecationWarning: inspect.getargspec() is deprecated, use inspect.signature() instead\n",
      "  return _inspect.getargspec(target)\n",
      "/home/deploy/.local/share/virtualenvs/edward2-notebooks-Fuhq9eE6/lib/python3.5/site-packages/tensorflow/python/util/tf_inspect.py:75: DeprecationWarning: inspect.getargspec() is deprecated, use inspect.signature() instead\n",
      "  return _inspect.getargspec(target)\n",
      "/home/deploy/.local/share/virtualenvs/edward2-notebooks-Fuhq9eE6/lib/python3.5/site-packages/tensorflow/python/util/tf_inspect.py:75: DeprecationWarning: inspect.getargspec() is deprecated, use inspect.signature() instead\n",
      "  return _inspect.getargspec(target)\n",
      "/home/deploy/.local/share/virtualenvs/edward2-notebooks-Fuhq9eE6/lib/python3.5/site-packages/tensorflow/python/util/tf_inspect.py:75: DeprecationWarning: inspect.getargspec() is deprecated, use inspect.signature() instead\n",
      "  return _inspect.getargspec(target)\n"
     ]
    },
    {
     "data": {
      "text/plain": [
       "<tf.Tensor 'Normal_5/sample/Reshape:0' shape=(?, 1) dtype=float32>"
      ]
     },
     "execution_count": 46,
     "metadata": {},
     "output_type": "execute_result"
    }
   ],
   "source": [
    "fc = tf.keras.layers.Dense\n",
    "\n",
    "x_ph = tf.placeholder(tf.float32, [None, 3])\n",
    "net = tf.keras.Sequential([fc(512, activation=tf.nn.relu), fc(1)])\n",
    "x = net(x_ph)\n",
    "action_dist = ed.Normal(loc=x, scale=1.)\n",
    "action_dist.distribution.sample()\n"
   ]
  },
  {
   "cell_type": "code",
   "execution_count": null,
   "metadata": {},
   "outputs": [],
   "source": []
  }
 ],
 "metadata": {
  "kernelspec": {
   "display_name": "Python 3",
   "language": "python",
   "name": "python3"
  },
  "language_info": {
   "codemirror_mode": {
    "name": "ipython",
    "version": 3
   },
   "file_extension": ".py",
   "mimetype": "text/x-python",
   "name": "python",
   "nbconvert_exporter": "python",
   "pygments_lexer": "ipython3",
   "version": "3.5.2"
  }
 },
 "nbformat": 4,
 "nbformat_minor": 2
}
